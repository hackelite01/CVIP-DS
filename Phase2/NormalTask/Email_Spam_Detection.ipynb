{
  "cells": [
    {
      "cell_type": "markdown",
      "metadata": {
        "id": "view-in-github",
        "colab_type": "text"
      },
      "source": [
        "<a href=\"https://colab.research.google.com/github/hackelite01/CVIP-DS/blob/main/Phase2/NormalTask/Email_Spam_Detection.ipynb\" target=\"_parent\"><img src=\"https://colab.research.google.com/assets/colab-badge.svg\" alt=\"Open In Colab\"/></a>"
      ]
    },
    {
      "cell_type": "markdown",
      "metadata": {
        "id": "odY4-akxIL75"
      },
      "source": [
        " # **Email Spam Detection**\n",
        "  \n",
        "  Dataset by: Kaggle(Email Spam Collection Dataset)\n",
        "\n",
        "  An email spam collection dataset is a curated dataset containing a collection of emails, typically categorized into two main classes: spam and non-spam (or ham). These datasets are used for various purposes, including the development and evaluation of spam email filters, machine learning algorithms, and data analysis."
      ]
    },
    {
      "cell_type": "markdown",
      "metadata": {
        "id": "g6D4aUdbRVE-"
      },
      "source": [
        "# **Importing Libraries**"
      ]
    },
    {
      "cell_type": "code",
      "execution_count": null,
      "metadata": {
        "id": "CQYpNs1hILRM"
      },
      "outputs": [],
      "source": [
        "import pandas as pd\n",
        "import numpy as np\n",
        "import matplotlib.pyplot as plt\n"
      ]
    },
    {
      "cell_type": "code",
      "execution_count": null,
      "metadata": {
        "id": "-58R_bDWJg3E"
      },
      "outputs": [],
      "source": [
        "import warnings\n",
        "warnings.filterwarnings(\"ignore\")"
      ]
    },
    {
      "cell_type": "code",
      "source": [
        "from google.colab import drive\n",
        "drive.mount('/content/drive')"
      ],
      "metadata": {
        "id": "aFOUZHNU0Mx3"
      },
      "execution_count": null,
      "outputs": []
    },
    {
      "cell_type": "markdown",
      "metadata": {
        "id": "PTA0C7iLRdBD"
      },
      "source": [
        "# **Importing Dataset**"
      ]
    },
    {
      "cell_type": "code",
      "execution_count": null,
      "metadata": {
        "id": "UJPFBv0_JvHV"
      },
      "outputs": [],
      "source": [
        "#df is the dataframe\n",
        "df = pd.read_csv(\"/content/drive/My Drive/DataSets/spam.csv\" , encoding =\"ISO-8859-1\")"
      ]
    },
    {
      "cell_type": "code",
      "execution_count": null,
      "metadata": {
        "id": "Q99DJvnEKeiB"
      },
      "outputs": [],
      "source": [
        "df.head()"
      ]
    },
    {
      "cell_type": "code",
      "execution_count": null,
      "metadata": {
        "id": "LZcim3BgK2gW"
      },
      "outputs": [],
      "source": [
        "# finding null values\n",
        "df.isnull().sum()"
      ]
    },
    {
      "cell_type": "code",
      "execution_count": null,
      "metadata": {
        "id": "kwxKSyPbLMqX"
      },
      "outputs": [],
      "source": [
        "# dropping null values\n",
        "df1 = df.drop([\"Unnamed: 2\",\"Unnamed: 3\",\"Unnamed: 4\"], axis=1)"
      ]
    },
    {
      "cell_type": "code",
      "execution_count": null,
      "metadata": {
        "id": "WEmjx9Y5LiAW"
      },
      "outputs": [],
      "source": [
        "df1.head()"
      ]
    },
    {
      "cell_type": "code",
      "execution_count": null,
      "metadata": {
        "id": "vkFApTWeLokz"
      },
      "outputs": [],
      "source": [
        "df1.rename(columns = {\"v1\" : \"Spam or Ham\", \"v2\" :\"Mail Message\"},inplace = True)"
      ]
    },
    {
      "cell_type": "code",
      "execution_count": null,
      "metadata": {
        "id": "aaCCCGo3MMXn"
      },
      "outputs": [],
      "source": [
        "df1.head()"
      ]
    },
    {
      "cell_type": "code",
      "execution_count": null,
      "metadata": {
        "id": "uSQbuYxNMROQ"
      },
      "outputs": [],
      "source": [
        "df1.shape"
      ]
    },
    {
      "cell_type": "markdown",
      "metadata": {
        "id": "FPr5mE4WRrYA"
      },
      "source": [
        "# **Converting the Categorical values into numerical values**"
      ]
    },
    {
      "cell_type": "code",
      "execution_count": null,
      "metadata": {
        "id": "yafBWPzeMWTe"
      },
      "outputs": [],
      "source": [
        "# Converting the categorical values into numerical values\n",
        "from sklearn.preprocessing import LabelEncoder\n",
        "encoder = LabelEncoder()\n",
        "df1['Spam or Ham'] = encoder.fit_transform(df1['Spam or Ham'])"
      ]
    },
    {
      "cell_type": "code",
      "execution_count": null,
      "metadata": {
        "id": "WVg1jvxHM7z-"
      },
      "outputs": [],
      "source": [
        "#Finding duplicates\n",
        "df1.duplicated().sum()"
      ]
    },
    {
      "cell_type": "code",
      "execution_count": null,
      "metadata": {
        "id": "bz-GRdigNENB"
      },
      "outputs": [],
      "source": [
        "df1 = df1.drop_duplicates(keep = 'first')"
      ]
    },
    {
      "cell_type": "code",
      "execution_count": null,
      "metadata": {
        "id": "VsbrxMh9NM0S"
      },
      "outputs": [],
      "source": [
        "df1.duplicated().sum()"
      ]
    },
    {
      "cell_type": "markdown",
      "metadata": {
        "id": "e-pnkRsHR512"
      },
      "source": [
        "# **Splitting the data**"
      ]
    },
    {
      "cell_type": "code",
      "execution_count": null,
      "metadata": {
        "id": "E0M8X4V8NSTL"
      },
      "outputs": [],
      "source": [
        "#Splitting the data\n",
        "X = df1[\"Mail Message\"]\n",
        "y = df1[\"Spam or Ham\"]"
      ]
    },
    {
      "cell_type": "markdown",
      "metadata": {
        "id": "tgCwfBmfSFVm"
      },
      "source": [
        "# **Splitting the data into training and testing data**"
      ]
    },
    {
      "cell_type": "code",
      "execution_count": null,
      "metadata": {
        "id": "hLYEscPTNzpm"
      },
      "outputs": [],
      "source": [
        "#Splitting the data into training and testing data\n",
        "from sklearn.model_selection import train_test_split\n",
        "X_train, X_test, y_train, y_test = train_test_split(X,y,test_size =0.20, random_state = 0)"
      ]
    },
    {
      "cell_type": "code",
      "execution_count": null,
      "metadata": {
        "id": "nGfeoASwOltc"
      },
      "outputs": [],
      "source": [
        "# Convert the text data into a matrix of token counts\n",
        "from sklearn.feature_extraction.text import CountVectorizer\n",
        "cv = CountVectorizer()\n",
        "X_train_count = cv.fit_transform(X_train.values)\n",
        "X_train_count.toarray()"
      ]
    },
    {
      "cell_type": "markdown",
      "metadata": {
        "id": "UN_y9Q0rSSoJ"
      },
      "source": [
        "# **Implementing the model**"
      ]
    },
    {
      "cell_type": "code",
      "execution_count": null,
      "metadata": {
        "id": "b730d943PHqG"
      },
      "outputs": [],
      "source": [
        "#Fitting Mutinomial naive bayes\n",
        "from sklearn.naive_bayes import MultinomialNB\n",
        "model = MultinomialNB()\n",
        "model.fit(X_train_count, y_train)"
      ]
    },
    {
      "cell_type": "code",
      "execution_count": null,
      "metadata": {
        "id": "y7s2rkzePiaf"
      },
      "outputs": [],
      "source": [
        "from sklearn.metrics import confusion_matrix , recall_score , precision_score\n",
        "from sklearn.metrics import accuracy_score"
      ]
    },
    {
      "cell_type": "markdown",
      "metadata": {
        "id": "HoJszN2hSYzU"
      },
      "source": [
        "# **Testing the data**"
      ]
    },
    {
      "cell_type": "code",
      "execution_count": null,
      "metadata": {
        "id": "XTCIxZrEP_E5"
      },
      "outputs": [],
      "source": [
        "#Testing the mail(spam/ham)\n",
        "\n",
        "mail_ham = ['Same. Wana plan a trip sometme then']\n",
        "mail_ham_count = cv.transform(mail_ham)\n",
        "y_pred = model.predict(mail_ham_count)\n",
        "y_pred"
      ]
    },
    {
      "cell_type": "markdown",
      "metadata": {
        "id": "7dfM-P3dSePc"
      },
      "source": [
        "# **Finding accuracy of training and test dataset**"
      ]
    },
    {
      "cell_type": "code",
      "execution_count": null,
      "metadata": {
        "id": "0-5jyYb2Qn7B"
      },
      "outputs": [],
      "source": [
        "#finding accuracy of the training dataset\n",
        "model.score(X_train_count, y_train)"
      ]
    },
    {
      "cell_type": "code",
      "execution_count": null,
      "metadata": {
        "id": "1ygCim1sQ50d"
      },
      "outputs": [],
      "source": [
        "#finding accuracy of thr test dataset\n",
        "X_test_count = cv.transform(X_test)\n",
        "model.score(X_test_count, y_test)"
      ]
    }
  ],
  "metadata": {
    "colab": {
      "provenance": [],
      "include_colab_link": true
    },
    "kernelspec": {
      "display_name": "Python 3",
      "name": "python3"
    },
    "language_info": {
      "name": "python"
    }
  },
  "nbformat": 4,
  "nbformat_minor": 0
}