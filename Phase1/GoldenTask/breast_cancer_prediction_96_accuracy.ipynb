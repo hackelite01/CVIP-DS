{
  "cells": [
    {
      "cell_type": "markdown",
      "metadata": {
        "id": "view-in-github",
        "colab_type": "text"
      },
      "source": [
        "<a href=\"https://colab.research.google.com/github/hackelite01/CVIP-DS/blob/main/Phase1/GoldenTask/breast_cancer_prediction_96_accuracy.ipynb\" target=\"_parent\"><img src=\"https://colab.research.google.com/assets/colab-badge.svg\" alt=\"Open In Colab\"/></a>"
      ]
    },
    {
      "cell_type": "code",
      "execution_count": null,
      "id": "9a25f372",
      "metadata": {
        "_cell_guid": "b1076dfc-b9ad-4769-8c92-a6c4dae69d19",
        "_uuid": "8f2839f25d086af736a60e9eeb907d3b93b6e0e5",
        "execution": {
          "iopub.execute_input": "2023-08-27T03:39:12.619020Z",
          "iopub.status.busy": "2023-08-27T03:39:12.618624Z",
          "iopub.status.idle": "2023-08-27T03:39:14.331542Z",
          "shell.execute_reply": "2023-08-27T03:39:14.330314Z"
        },
        "papermill": {
          "duration": 1.724614,
          "end_time": "2023-08-27T03:39:14.334207",
          "exception": false,
          "start_time": "2023-08-27T03:39:12.609593",
          "status": "completed"
        },
        "tags": [],
        "id": "9a25f372",
        "outputId": "94f138d0-3f81-4996-ec51-35382a54852a",
        "colab": {
          "base_uri": "https://localhost:8080/"
        }
      },
      "outputs": [
        {
          "output_type": "stream",
          "name": "stdout",
          "text": [
            "Drive already mounted at /content/drive; to attempt to forcibly remount, call drive.mount(\"/content/drive\", force_remount=True).\n"
          ]
        }
      ],
      "source": [
        "import numpy as np\n",
        "import pandas as pd\n",
        "import matplotlib.pyplot as mplt\n",
        "import seaborn as sns\n",
        "import sklearn\n",
        "from sklearn.linear_model import Lasso\n",
        "from sklearn.model_selection import train_test_split\n",
        "from sklearn.metrics import accuracy_score, precision_score, recall_score, f1_score, confusion_matrix, classification_report\n",
        "from sklearn.model_selection import cross_val_score, KFold\n",
        "from google.colab import drive\n",
        "drive.mount('/content/drive')"
      ]
    },
    {
      "cell_type": "code",
      "execution_count": null,
      "id": "5293e45e",
      "metadata": {
        "execution": {
          "iopub.execute_input": "2023-08-27T03:39:14.352211Z",
          "iopub.status.busy": "2023-08-27T03:39:14.351172Z",
          "iopub.status.idle": "2023-08-27T03:39:14.380530Z",
          "shell.execute_reply": "2023-08-27T03:39:14.379362Z"
        },
        "papermill": {
          "duration": 0.041331,
          "end_time": "2023-08-27T03:39:14.383815",
          "exception": false,
          "start_time": "2023-08-27T03:39:14.342484",
          "status": "completed"
        },
        "tags": [],
        "id": "5293e45e"
      },
      "outputs": [],
      "source": [
        "cancer = pd.read_csv('/content/drive/My Drive/DataSets/breast-cancer.csv')"
      ]
    },
    {
      "cell_type": "code",
      "execution_count": null,
      "id": "812c1e6f",
      "metadata": {
        "execution": {
          "iopub.execute_input": "2023-08-27T03:39:14.401828Z",
          "iopub.status.busy": "2023-08-27T03:39:14.400785Z",
          "iopub.status.idle": "2023-08-27T03:39:14.440272Z",
          "shell.execute_reply": "2023-08-27T03:39:14.439133Z"
        },
        "papermill": {
          "duration": 0.051287,
          "end_time": "2023-08-27T03:39:14.442834",
          "exception": false,
          "start_time": "2023-08-27T03:39:14.391547",
          "status": "completed"
        },
        "tags": [],
        "id": "812c1e6f",
        "outputId": "0f8f5aa4-4545-462d-fe00-6b4e71537863",
        "colab": {
          "base_uri": "https://localhost:8080/",
          "height": 273
        }
      },
      "outputs": [
        {
          "output_type": "execute_result",
          "data": {
            "text/plain": [
              "         id diagnosis  radius_mean  texture_mean  perimeter_mean  area_mean  \\\n",
              "0    842302         M        17.99         10.38          122.80     1001.0   \n",
              "1    842517         M        20.57         17.77          132.90     1326.0   \n",
              "2  84300903         M        19.69         21.25          130.00     1203.0   \n",
              "3  84348301         M        11.42         20.38           77.58      386.1   \n",
              "4  84358402         M        20.29         14.34          135.10     1297.0   \n",
              "\n",
              "   smoothness_mean  compactness_mean  concavity_mean  concave points_mean  \\\n",
              "0          0.11840           0.27760          0.3001              0.14710   \n",
              "1          0.08474           0.07864          0.0869              0.07017   \n",
              "2          0.10960           0.15990          0.1974              0.12790   \n",
              "3          0.14250           0.28390          0.2414              0.10520   \n",
              "4          0.10030           0.13280          0.1980              0.10430   \n",
              "\n",
              "   ...  radius_worst  texture_worst  perimeter_worst  area_worst  \\\n",
              "0  ...         25.38          17.33           184.60      2019.0   \n",
              "1  ...         24.99          23.41           158.80      1956.0   \n",
              "2  ...         23.57          25.53           152.50      1709.0   \n",
              "3  ...         14.91          26.50            98.87       567.7   \n",
              "4  ...         22.54          16.67           152.20      1575.0   \n",
              "\n",
              "   smoothness_worst  compactness_worst  concavity_worst  concave points_worst  \\\n",
              "0            0.1622             0.6656           0.7119                0.2654   \n",
              "1            0.1238             0.1866           0.2416                0.1860   \n",
              "2            0.1444             0.4245           0.4504                0.2430   \n",
              "3            0.2098             0.8663           0.6869                0.2575   \n",
              "4            0.1374             0.2050           0.4000                0.1625   \n",
              "\n",
              "   symmetry_worst  fractal_dimension_worst  \n",
              "0          0.4601                  0.11890  \n",
              "1          0.2750                  0.08902  \n",
              "2          0.3613                  0.08758  \n",
              "3          0.6638                  0.17300  \n",
              "4          0.2364                  0.07678  \n",
              "\n",
              "[5 rows x 32 columns]"
            ],
            "text/html": [
              "\n",
              "  <div id=\"df-84d22d56-fb8a-4404-aad5-51010b8ffcb4\" class=\"colab-df-container\">\n",
              "    <div>\n",
              "<style scoped>\n",
              "    .dataframe tbody tr th:only-of-type {\n",
              "        vertical-align: middle;\n",
              "    }\n",
              "\n",
              "    .dataframe tbody tr th {\n",
              "        vertical-align: top;\n",
              "    }\n",
              "\n",
              "    .dataframe thead th {\n",
              "        text-align: right;\n",
              "    }\n",
              "</style>\n",
              "<table border=\"1\" class=\"dataframe\">\n",
              "  <thead>\n",
              "    <tr style=\"text-align: right;\">\n",
              "      <th></th>\n",
              "      <th>id</th>\n",
              "      <th>diagnosis</th>\n",
              "      <th>radius_mean</th>\n",
              "      <th>texture_mean</th>\n",
              "      <th>perimeter_mean</th>\n",
              "      <th>area_mean</th>\n",
              "      <th>smoothness_mean</th>\n",
              "      <th>compactness_mean</th>\n",
              "      <th>concavity_mean</th>\n",
              "      <th>concave points_mean</th>\n",
              "      <th>...</th>\n",
              "      <th>radius_worst</th>\n",
              "      <th>texture_worst</th>\n",
              "      <th>perimeter_worst</th>\n",
              "      <th>area_worst</th>\n",
              "      <th>smoothness_worst</th>\n",
              "      <th>compactness_worst</th>\n",
              "      <th>concavity_worst</th>\n",
              "      <th>concave points_worst</th>\n",
              "      <th>symmetry_worst</th>\n",
              "      <th>fractal_dimension_worst</th>\n",
              "    </tr>\n",
              "  </thead>\n",
              "  <tbody>\n",
              "    <tr>\n",
              "      <th>0</th>\n",
              "      <td>842302</td>\n",
              "      <td>M</td>\n",
              "      <td>17.99</td>\n",
              "      <td>10.38</td>\n",
              "      <td>122.80</td>\n",
              "      <td>1001.0</td>\n",
              "      <td>0.11840</td>\n",
              "      <td>0.27760</td>\n",
              "      <td>0.3001</td>\n",
              "      <td>0.14710</td>\n",
              "      <td>...</td>\n",
              "      <td>25.38</td>\n",
              "      <td>17.33</td>\n",
              "      <td>184.60</td>\n",
              "      <td>2019.0</td>\n",
              "      <td>0.1622</td>\n",
              "      <td>0.6656</td>\n",
              "      <td>0.7119</td>\n",
              "      <td>0.2654</td>\n",
              "      <td>0.4601</td>\n",
              "      <td>0.11890</td>\n",
              "    </tr>\n",
              "    <tr>\n",
              "      <th>1</th>\n",
              "      <td>842517</td>\n",
              "      <td>M</td>\n",
              "      <td>20.57</td>\n",
              "      <td>17.77</td>\n",
              "      <td>132.90</td>\n",
              "      <td>1326.0</td>\n",
              "      <td>0.08474</td>\n",
              "      <td>0.07864</td>\n",
              "      <td>0.0869</td>\n",
              "      <td>0.07017</td>\n",
              "      <td>...</td>\n",
              "      <td>24.99</td>\n",
              "      <td>23.41</td>\n",
              "      <td>158.80</td>\n",
              "      <td>1956.0</td>\n",
              "      <td>0.1238</td>\n",
              "      <td>0.1866</td>\n",
              "      <td>0.2416</td>\n",
              "      <td>0.1860</td>\n",
              "      <td>0.2750</td>\n",
              "      <td>0.08902</td>\n",
              "    </tr>\n",
              "    <tr>\n",
              "      <th>2</th>\n",
              "      <td>84300903</td>\n",
              "      <td>M</td>\n",
              "      <td>19.69</td>\n",
              "      <td>21.25</td>\n",
              "      <td>130.00</td>\n",
              "      <td>1203.0</td>\n",
              "      <td>0.10960</td>\n",
              "      <td>0.15990</td>\n",
              "      <td>0.1974</td>\n",
              "      <td>0.12790</td>\n",
              "      <td>...</td>\n",
              "      <td>23.57</td>\n",
              "      <td>25.53</td>\n",
              "      <td>152.50</td>\n",
              "      <td>1709.0</td>\n",
              "      <td>0.1444</td>\n",
              "      <td>0.4245</td>\n",
              "      <td>0.4504</td>\n",
              "      <td>0.2430</td>\n",
              "      <td>0.3613</td>\n",
              "      <td>0.08758</td>\n",
              "    </tr>\n",
              "    <tr>\n",
              "      <th>3</th>\n",
              "      <td>84348301</td>\n",
              "      <td>M</td>\n",
              "      <td>11.42</td>\n",
              "      <td>20.38</td>\n",
              "      <td>77.58</td>\n",
              "      <td>386.1</td>\n",
              "      <td>0.14250</td>\n",
              "      <td>0.28390</td>\n",
              "      <td>0.2414</td>\n",
              "      <td>0.10520</td>\n",
              "      <td>...</td>\n",
              "      <td>14.91</td>\n",
              "      <td>26.50</td>\n",
              "      <td>98.87</td>\n",
              "      <td>567.7</td>\n",
              "      <td>0.2098</td>\n",
              "      <td>0.8663</td>\n",
              "      <td>0.6869</td>\n",
              "      <td>0.2575</td>\n",
              "      <td>0.6638</td>\n",
              "      <td>0.17300</td>\n",
              "    </tr>\n",
              "    <tr>\n",
              "      <th>4</th>\n",
              "      <td>84358402</td>\n",
              "      <td>M</td>\n",
              "      <td>20.29</td>\n",
              "      <td>14.34</td>\n",
              "      <td>135.10</td>\n",
              "      <td>1297.0</td>\n",
              "      <td>0.10030</td>\n",
              "      <td>0.13280</td>\n",
              "      <td>0.1980</td>\n",
              "      <td>0.10430</td>\n",
              "      <td>...</td>\n",
              "      <td>22.54</td>\n",
              "      <td>16.67</td>\n",
              "      <td>152.20</td>\n",
              "      <td>1575.0</td>\n",
              "      <td>0.1374</td>\n",
              "      <td>0.2050</td>\n",
              "      <td>0.4000</td>\n",
              "      <td>0.1625</td>\n",
              "      <td>0.2364</td>\n",
              "      <td>0.07678</td>\n",
              "    </tr>\n",
              "  </tbody>\n",
              "</table>\n",
              "<p>5 rows × 32 columns</p>\n",
              "</div>\n",
              "    <div class=\"colab-df-buttons\">\n",
              "\n",
              "  <div class=\"colab-df-container\">\n",
              "    <button class=\"colab-df-convert\" onclick=\"convertToInteractive('df-84d22d56-fb8a-4404-aad5-51010b8ffcb4')\"\n",
              "            title=\"Convert this dataframe to an interactive table.\"\n",
              "            style=\"display:none;\">\n",
              "\n",
              "  <svg xmlns=\"http://www.w3.org/2000/svg\" height=\"24px\" viewBox=\"0 -960 960 960\">\n",
              "    <path d=\"M120-120v-720h720v720H120Zm60-500h600v-160H180v160Zm220 220h160v-160H400v160Zm0 220h160v-160H400v160ZM180-400h160v-160H180v160Zm440 0h160v-160H620v160ZM180-180h160v-160H180v160Zm440 0h160v-160H620v160Z\"/>\n",
              "  </svg>\n",
              "    </button>\n",
              "\n",
              "  <style>\n",
              "    .colab-df-container {\n",
              "      display:flex;\n",
              "      gap: 12px;\n",
              "    }\n",
              "\n",
              "    .colab-df-convert {\n",
              "      background-color: #E8F0FE;\n",
              "      border: none;\n",
              "      border-radius: 50%;\n",
              "      cursor: pointer;\n",
              "      display: none;\n",
              "      fill: #1967D2;\n",
              "      height: 32px;\n",
              "      padding: 0 0 0 0;\n",
              "      width: 32px;\n",
              "    }\n",
              "\n",
              "    .colab-df-convert:hover {\n",
              "      background-color: #E2EBFA;\n",
              "      box-shadow: 0px 1px 2px rgba(60, 64, 67, 0.3), 0px 1px 3px 1px rgba(60, 64, 67, 0.15);\n",
              "      fill: #174EA6;\n",
              "    }\n",
              "\n",
              "    .colab-df-buttons div {\n",
              "      margin-bottom: 4px;\n",
              "    }\n",
              "\n",
              "    [theme=dark] .colab-df-convert {\n",
              "      background-color: #3B4455;\n",
              "      fill: #D2E3FC;\n",
              "    }\n",
              "\n",
              "    [theme=dark] .colab-df-convert:hover {\n",
              "      background-color: #434B5C;\n",
              "      box-shadow: 0px 1px 3px 1px rgba(0, 0, 0, 0.15);\n",
              "      filter: drop-shadow(0px 1px 2px rgba(0, 0, 0, 0.3));\n",
              "      fill: #FFFFFF;\n",
              "    }\n",
              "  </style>\n",
              "\n",
              "    <script>\n",
              "      const buttonEl =\n",
              "        document.querySelector('#df-84d22d56-fb8a-4404-aad5-51010b8ffcb4 button.colab-df-convert');\n",
              "      buttonEl.style.display =\n",
              "        google.colab.kernel.accessAllowed ? 'block' : 'none';\n",
              "\n",
              "      async function convertToInteractive(key) {\n",
              "        const element = document.querySelector('#df-84d22d56-fb8a-4404-aad5-51010b8ffcb4');\n",
              "        const dataTable =\n",
              "          await google.colab.kernel.invokeFunction('convertToInteractive',\n",
              "                                                    [key], {});\n",
              "        if (!dataTable) return;\n",
              "\n",
              "        const docLinkHtml = 'Like what you see? Visit the ' +\n",
              "          '<a target=\"_blank\" href=https://colab.research.google.com/notebooks/data_table.ipynb>data table notebook</a>'\n",
              "          + ' to learn more about interactive tables.';\n",
              "        element.innerHTML = '';\n",
              "        dataTable['output_type'] = 'display_data';\n",
              "        await google.colab.output.renderOutput(dataTable, element);\n",
              "        const docLink = document.createElement('div');\n",
              "        docLink.innerHTML = docLinkHtml;\n",
              "        element.appendChild(docLink);\n",
              "      }\n",
              "    </script>\n",
              "  </div>\n",
              "\n",
              "\n",
              "<div id=\"df-3fcc691c-5075-4957-9fab-fefc0c62a296\">\n",
              "  <button class=\"colab-df-quickchart\" onclick=\"quickchart('df-3fcc691c-5075-4957-9fab-fefc0c62a296')\"\n",
              "            title=\"Suggest charts.\"\n",
              "            style=\"display:none;\">\n",
              "\n",
              "<svg xmlns=\"http://www.w3.org/2000/svg\" height=\"24px\"viewBox=\"0 0 24 24\"\n",
              "     width=\"24px\">\n",
              "    <g>\n",
              "        <path d=\"M19 3H5c-1.1 0-2 .9-2 2v14c0 1.1.9 2 2 2h14c1.1 0 2-.9 2-2V5c0-1.1-.9-2-2-2zM9 17H7v-7h2v7zm4 0h-2V7h2v10zm4 0h-2v-4h2v4z\"/>\n",
              "    </g>\n",
              "</svg>\n",
              "  </button>\n",
              "\n",
              "<style>\n",
              "  .colab-df-quickchart {\n",
              "    background-color: #E8F0FE;\n",
              "    border: none;\n",
              "    border-radius: 50%;\n",
              "    cursor: pointer;\n",
              "    display: none;\n",
              "    fill: #1967D2;\n",
              "    height: 32px;\n",
              "    padding: 0 0 0 0;\n",
              "    width: 32px;\n",
              "  }\n",
              "\n",
              "  .colab-df-quickchart:hover {\n",
              "    background-color: #E2EBFA;\n",
              "    box-shadow: 0px 1px 2px rgba(60, 64, 67, 0.3), 0px 1px 3px 1px rgba(60, 64, 67, 0.15);\n",
              "    fill: #174EA6;\n",
              "  }\n",
              "\n",
              "  [theme=dark] .colab-df-quickchart {\n",
              "    background-color: #3B4455;\n",
              "    fill: #D2E3FC;\n",
              "  }\n",
              "\n",
              "  [theme=dark] .colab-df-quickchart:hover {\n",
              "    background-color: #434B5C;\n",
              "    box-shadow: 0px 1px 3px 1px rgba(0, 0, 0, 0.15);\n",
              "    filter: drop-shadow(0px 1px 2px rgba(0, 0, 0, 0.3));\n",
              "    fill: #FFFFFF;\n",
              "  }\n",
              "</style>\n",
              "\n",
              "  <script>\n",
              "    async function quickchart(key) {\n",
              "      const charts = await google.colab.kernel.invokeFunction(\n",
              "          'suggestCharts', [key], {});\n",
              "    }\n",
              "    (() => {\n",
              "      let quickchartButtonEl =\n",
              "        document.querySelector('#df-3fcc691c-5075-4957-9fab-fefc0c62a296 button');\n",
              "      quickchartButtonEl.style.display =\n",
              "        google.colab.kernel.accessAllowed ? 'block' : 'none';\n",
              "    })();\n",
              "  </script>\n",
              "</div>\n",
              "    </div>\n",
              "  </div>\n"
            ]
          },
          "metadata": {},
          "execution_count": 31
        }
      ],
      "source": [
        "cancer.head()"
      ]
    },
    {
      "cell_type": "code",
      "execution_count": null,
      "id": "4681c8af",
      "metadata": {
        "execution": {
          "iopub.execute_input": "2023-08-27T03:39:14.460372Z",
          "iopub.status.busy": "2023-08-27T03:39:14.459936Z",
          "iopub.status.idle": "2023-08-27T03:39:14.554668Z",
          "shell.execute_reply": "2023-08-27T03:39:14.553541Z"
        },
        "papermill": {
          "duration": 0.106167,
          "end_time": "2023-08-27T03:39:14.556928",
          "exception": false,
          "start_time": "2023-08-27T03:39:14.450761",
          "status": "completed"
        },
        "tags": [],
        "id": "4681c8af",
        "outputId": "2913f66e-6f5a-4603-a7b0-2236e0583170",
        "colab": {
          "base_uri": "https://localhost:8080/",
          "height": 367
        }
      },
      "outputs": [
        {
          "output_type": "execute_result",
          "data": {
            "text/plain": [
              "                 id  radius_mean  texture_mean  perimeter_mean    area_mean  \\\n",
              "count  5.690000e+02   569.000000    569.000000      569.000000   569.000000   \n",
              "mean   3.037183e+07    14.127292     19.289649       91.969033   654.889104   \n",
              "std    1.250206e+08     3.524049      4.301036       24.298981   351.914129   \n",
              "min    8.670000e+03     6.981000      9.710000       43.790000   143.500000   \n",
              "25%    8.692180e+05    11.700000     16.170000       75.170000   420.300000   \n",
              "50%    9.060240e+05    13.370000     18.840000       86.240000   551.100000   \n",
              "75%    8.813129e+06    15.780000     21.800000      104.100000   782.700000   \n",
              "max    9.113205e+08    28.110000     39.280000      188.500000  2501.000000   \n",
              "\n",
              "       smoothness_mean  compactness_mean  concavity_mean  concave points_mean  \\\n",
              "count       569.000000        569.000000      569.000000           569.000000   \n",
              "mean          0.096360          0.104341        0.088799             0.048919   \n",
              "std           0.014064          0.052813        0.079720             0.038803   \n",
              "min           0.052630          0.019380        0.000000             0.000000   \n",
              "25%           0.086370          0.064920        0.029560             0.020310   \n",
              "50%           0.095870          0.092630        0.061540             0.033500   \n",
              "75%           0.105300          0.130400        0.130700             0.074000   \n",
              "max           0.163400          0.345400        0.426800             0.201200   \n",
              "\n",
              "       symmetry_mean  ...  radius_worst  texture_worst  perimeter_worst  \\\n",
              "count     569.000000  ...    569.000000     569.000000       569.000000   \n",
              "mean        0.181162  ...     16.269190      25.677223       107.261213   \n",
              "std         0.027414  ...      4.833242       6.146258        33.602542   \n",
              "min         0.106000  ...      7.930000      12.020000        50.410000   \n",
              "25%         0.161900  ...     13.010000      21.080000        84.110000   \n",
              "50%         0.179200  ...     14.970000      25.410000        97.660000   \n",
              "75%         0.195700  ...     18.790000      29.720000       125.400000   \n",
              "max         0.304000  ...     36.040000      49.540000       251.200000   \n",
              "\n",
              "        area_worst  smoothness_worst  compactness_worst  concavity_worst  \\\n",
              "count   569.000000        569.000000         569.000000       569.000000   \n",
              "mean    880.583128          0.132369           0.254265         0.272188   \n",
              "std     569.356993          0.022832           0.157336         0.208624   \n",
              "min     185.200000          0.071170           0.027290         0.000000   \n",
              "25%     515.300000          0.116600           0.147200         0.114500   \n",
              "50%     686.500000          0.131300           0.211900         0.226700   \n",
              "75%    1084.000000          0.146000           0.339100         0.382900   \n",
              "max    4254.000000          0.222600           1.058000         1.252000   \n",
              "\n",
              "       concave points_worst  symmetry_worst  fractal_dimension_worst  \n",
              "count            569.000000      569.000000               569.000000  \n",
              "mean               0.114606        0.290076                 0.083946  \n",
              "std                0.065732        0.061867                 0.018061  \n",
              "min                0.000000        0.156500                 0.055040  \n",
              "25%                0.064930        0.250400                 0.071460  \n",
              "50%                0.099930        0.282200                 0.080040  \n",
              "75%                0.161400        0.317900                 0.092080  \n",
              "max                0.291000        0.663800                 0.207500  \n",
              "\n",
              "[8 rows x 31 columns]"
            ],
            "text/html": [
              "\n",
              "  <div id=\"df-0625861b-83f5-4a96-b55d-aca6ce095b21\" class=\"colab-df-container\">\n",
              "    <div>\n",
              "<style scoped>\n",
              "    .dataframe tbody tr th:only-of-type {\n",
              "        vertical-align: middle;\n",
              "    }\n",
              "\n",
              "    .dataframe tbody tr th {\n",
              "        vertical-align: top;\n",
              "    }\n",
              "\n",
              "    .dataframe thead th {\n",
              "        text-align: right;\n",
              "    }\n",
              "</style>\n",
              "<table border=\"1\" class=\"dataframe\">\n",
              "  <thead>\n",
              "    <tr style=\"text-align: right;\">\n",
              "      <th></th>\n",
              "      <th>id</th>\n",
              "      <th>radius_mean</th>\n",
              "      <th>texture_mean</th>\n",
              "      <th>perimeter_mean</th>\n",
              "      <th>area_mean</th>\n",
              "      <th>smoothness_mean</th>\n",
              "      <th>compactness_mean</th>\n",
              "      <th>concavity_mean</th>\n",
              "      <th>concave points_mean</th>\n",
              "      <th>symmetry_mean</th>\n",
              "      <th>...</th>\n",
              "      <th>radius_worst</th>\n",
              "      <th>texture_worst</th>\n",
              "      <th>perimeter_worst</th>\n",
              "      <th>area_worst</th>\n",
              "      <th>smoothness_worst</th>\n",
              "      <th>compactness_worst</th>\n",
              "      <th>concavity_worst</th>\n",
              "      <th>concave points_worst</th>\n",
              "      <th>symmetry_worst</th>\n",
              "      <th>fractal_dimension_worst</th>\n",
              "    </tr>\n",
              "  </thead>\n",
              "  <tbody>\n",
              "    <tr>\n",
              "      <th>count</th>\n",
              "      <td>5.690000e+02</td>\n",
              "      <td>569.000000</td>\n",
              "      <td>569.000000</td>\n",
              "      <td>569.000000</td>\n",
              "      <td>569.000000</td>\n",
              "      <td>569.000000</td>\n",
              "      <td>569.000000</td>\n",
              "      <td>569.000000</td>\n",
              "      <td>569.000000</td>\n",
              "      <td>569.000000</td>\n",
              "      <td>...</td>\n",
              "      <td>569.000000</td>\n",
              "      <td>569.000000</td>\n",
              "      <td>569.000000</td>\n",
              "      <td>569.000000</td>\n",
              "      <td>569.000000</td>\n",
              "      <td>569.000000</td>\n",
              "      <td>569.000000</td>\n",
              "      <td>569.000000</td>\n",
              "      <td>569.000000</td>\n",
              "      <td>569.000000</td>\n",
              "    </tr>\n",
              "    <tr>\n",
              "      <th>mean</th>\n",
              "      <td>3.037183e+07</td>\n",
              "      <td>14.127292</td>\n",
              "      <td>19.289649</td>\n",
              "      <td>91.969033</td>\n",
              "      <td>654.889104</td>\n",
              "      <td>0.096360</td>\n",
              "      <td>0.104341</td>\n",
              "      <td>0.088799</td>\n",
              "      <td>0.048919</td>\n",
              "      <td>0.181162</td>\n",
              "      <td>...</td>\n",
              "      <td>16.269190</td>\n",
              "      <td>25.677223</td>\n",
              "      <td>107.261213</td>\n",
              "      <td>880.583128</td>\n",
              "      <td>0.132369</td>\n",
              "      <td>0.254265</td>\n",
              "      <td>0.272188</td>\n",
              "      <td>0.114606</td>\n",
              "      <td>0.290076</td>\n",
              "      <td>0.083946</td>\n",
              "    </tr>\n",
              "    <tr>\n",
              "      <th>std</th>\n",
              "      <td>1.250206e+08</td>\n",
              "      <td>3.524049</td>\n",
              "      <td>4.301036</td>\n",
              "      <td>24.298981</td>\n",
              "      <td>351.914129</td>\n",
              "      <td>0.014064</td>\n",
              "      <td>0.052813</td>\n",
              "      <td>0.079720</td>\n",
              "      <td>0.038803</td>\n",
              "      <td>0.027414</td>\n",
              "      <td>...</td>\n",
              "      <td>4.833242</td>\n",
              "      <td>6.146258</td>\n",
              "      <td>33.602542</td>\n",
              "      <td>569.356993</td>\n",
              "      <td>0.022832</td>\n",
              "      <td>0.157336</td>\n",
              "      <td>0.208624</td>\n",
              "      <td>0.065732</td>\n",
              "      <td>0.061867</td>\n",
              "      <td>0.018061</td>\n",
              "    </tr>\n",
              "    <tr>\n",
              "      <th>min</th>\n",
              "      <td>8.670000e+03</td>\n",
              "      <td>6.981000</td>\n",
              "      <td>9.710000</td>\n",
              "      <td>43.790000</td>\n",
              "      <td>143.500000</td>\n",
              "      <td>0.052630</td>\n",
              "      <td>0.019380</td>\n",
              "      <td>0.000000</td>\n",
              "      <td>0.000000</td>\n",
              "      <td>0.106000</td>\n",
              "      <td>...</td>\n",
              "      <td>7.930000</td>\n",
              "      <td>12.020000</td>\n",
              "      <td>50.410000</td>\n",
              "      <td>185.200000</td>\n",
              "      <td>0.071170</td>\n",
              "      <td>0.027290</td>\n",
              "      <td>0.000000</td>\n",
              "      <td>0.000000</td>\n",
              "      <td>0.156500</td>\n",
              "      <td>0.055040</td>\n",
              "    </tr>\n",
              "    <tr>\n",
              "      <th>25%</th>\n",
              "      <td>8.692180e+05</td>\n",
              "      <td>11.700000</td>\n",
              "      <td>16.170000</td>\n",
              "      <td>75.170000</td>\n",
              "      <td>420.300000</td>\n",
              "      <td>0.086370</td>\n",
              "      <td>0.064920</td>\n",
              "      <td>0.029560</td>\n",
              "      <td>0.020310</td>\n",
              "      <td>0.161900</td>\n",
              "      <td>...</td>\n",
              "      <td>13.010000</td>\n",
              "      <td>21.080000</td>\n",
              "      <td>84.110000</td>\n",
              "      <td>515.300000</td>\n",
              "      <td>0.116600</td>\n",
              "      <td>0.147200</td>\n",
              "      <td>0.114500</td>\n",
              "      <td>0.064930</td>\n",
              "      <td>0.250400</td>\n",
              "      <td>0.071460</td>\n",
              "    </tr>\n",
              "    <tr>\n",
              "      <th>50%</th>\n",
              "      <td>9.060240e+05</td>\n",
              "      <td>13.370000</td>\n",
              "      <td>18.840000</td>\n",
              "      <td>86.240000</td>\n",
              "      <td>551.100000</td>\n",
              "      <td>0.095870</td>\n",
              "      <td>0.092630</td>\n",
              "      <td>0.061540</td>\n",
              "      <td>0.033500</td>\n",
              "      <td>0.179200</td>\n",
              "      <td>...</td>\n",
              "      <td>14.970000</td>\n",
              "      <td>25.410000</td>\n",
              "      <td>97.660000</td>\n",
              "      <td>686.500000</td>\n",
              "      <td>0.131300</td>\n",
              "      <td>0.211900</td>\n",
              "      <td>0.226700</td>\n",
              "      <td>0.099930</td>\n",
              "      <td>0.282200</td>\n",
              "      <td>0.080040</td>\n",
              "    </tr>\n",
              "    <tr>\n",
              "      <th>75%</th>\n",
              "      <td>8.813129e+06</td>\n",
              "      <td>15.780000</td>\n",
              "      <td>21.800000</td>\n",
              "      <td>104.100000</td>\n",
              "      <td>782.700000</td>\n",
              "      <td>0.105300</td>\n",
              "      <td>0.130400</td>\n",
              "      <td>0.130700</td>\n",
              "      <td>0.074000</td>\n",
              "      <td>0.195700</td>\n",
              "      <td>...</td>\n",
              "      <td>18.790000</td>\n",
              "      <td>29.720000</td>\n",
              "      <td>125.400000</td>\n",
              "      <td>1084.000000</td>\n",
              "      <td>0.146000</td>\n",
              "      <td>0.339100</td>\n",
              "      <td>0.382900</td>\n",
              "      <td>0.161400</td>\n",
              "      <td>0.317900</td>\n",
              "      <td>0.092080</td>\n",
              "    </tr>\n",
              "    <tr>\n",
              "      <th>max</th>\n",
              "      <td>9.113205e+08</td>\n",
              "      <td>28.110000</td>\n",
              "      <td>39.280000</td>\n",
              "      <td>188.500000</td>\n",
              "      <td>2501.000000</td>\n",
              "      <td>0.163400</td>\n",
              "      <td>0.345400</td>\n",
              "      <td>0.426800</td>\n",
              "      <td>0.201200</td>\n",
              "      <td>0.304000</td>\n",
              "      <td>...</td>\n",
              "      <td>36.040000</td>\n",
              "      <td>49.540000</td>\n",
              "      <td>251.200000</td>\n",
              "      <td>4254.000000</td>\n",
              "      <td>0.222600</td>\n",
              "      <td>1.058000</td>\n",
              "      <td>1.252000</td>\n",
              "      <td>0.291000</td>\n",
              "      <td>0.663800</td>\n",
              "      <td>0.207500</td>\n",
              "    </tr>\n",
              "  </tbody>\n",
              "</table>\n",
              "<p>8 rows × 31 columns</p>\n",
              "</div>\n",
              "    <div class=\"colab-df-buttons\">\n",
              "\n",
              "  <div class=\"colab-df-container\">\n",
              "    <button class=\"colab-df-convert\" onclick=\"convertToInteractive('df-0625861b-83f5-4a96-b55d-aca6ce095b21')\"\n",
              "            title=\"Convert this dataframe to an interactive table.\"\n",
              "            style=\"display:none;\">\n",
              "\n",
              "  <svg xmlns=\"http://www.w3.org/2000/svg\" height=\"24px\" viewBox=\"0 -960 960 960\">\n",
              "    <path d=\"M120-120v-720h720v720H120Zm60-500h600v-160H180v160Zm220 220h160v-160H400v160Zm0 220h160v-160H400v160ZM180-400h160v-160H180v160Zm440 0h160v-160H620v160ZM180-180h160v-160H180v160Zm440 0h160v-160H620v160Z\"/>\n",
              "  </svg>\n",
              "    </button>\n",
              "\n",
              "  <style>\n",
              "    .colab-df-container {\n",
              "      display:flex;\n",
              "      gap: 12px;\n",
              "    }\n",
              "\n",
              "    .colab-df-convert {\n",
              "      background-color: #E8F0FE;\n",
              "      border: none;\n",
              "      border-radius: 50%;\n",
              "      cursor: pointer;\n",
              "      display: none;\n",
              "      fill: #1967D2;\n",
              "      height: 32px;\n",
              "      padding: 0 0 0 0;\n",
              "      width: 32px;\n",
              "    }\n",
              "\n",
              "    .colab-df-convert:hover {\n",
              "      background-color: #E2EBFA;\n",
              "      box-shadow: 0px 1px 2px rgba(60, 64, 67, 0.3), 0px 1px 3px 1px rgba(60, 64, 67, 0.15);\n",
              "      fill: #174EA6;\n",
              "    }\n",
              "\n",
              "    .colab-df-buttons div {\n",
              "      margin-bottom: 4px;\n",
              "    }\n",
              "\n",
              "    [theme=dark] .colab-df-convert {\n",
              "      background-color: #3B4455;\n",
              "      fill: #D2E3FC;\n",
              "    }\n",
              "\n",
              "    [theme=dark] .colab-df-convert:hover {\n",
              "      background-color: #434B5C;\n",
              "      box-shadow: 0px 1px 3px 1px rgba(0, 0, 0, 0.15);\n",
              "      filter: drop-shadow(0px 1px 2px rgba(0, 0, 0, 0.3));\n",
              "      fill: #FFFFFF;\n",
              "    }\n",
              "  </style>\n",
              "\n",
              "    <script>\n",
              "      const buttonEl =\n",
              "        document.querySelector('#df-0625861b-83f5-4a96-b55d-aca6ce095b21 button.colab-df-convert');\n",
              "      buttonEl.style.display =\n",
              "        google.colab.kernel.accessAllowed ? 'block' : 'none';\n",
              "\n",
              "      async function convertToInteractive(key) {\n",
              "        const element = document.querySelector('#df-0625861b-83f5-4a96-b55d-aca6ce095b21');\n",
              "        const dataTable =\n",
              "          await google.colab.kernel.invokeFunction('convertToInteractive',\n",
              "                                                    [key], {});\n",
              "        if (!dataTable) return;\n",
              "\n",
              "        const docLinkHtml = 'Like what you see? Visit the ' +\n",
              "          '<a target=\"_blank\" href=https://colab.research.google.com/notebooks/data_table.ipynb>data table notebook</a>'\n",
              "          + ' to learn more about interactive tables.';\n",
              "        element.innerHTML = '';\n",
              "        dataTable['output_type'] = 'display_data';\n",
              "        await google.colab.output.renderOutput(dataTable, element);\n",
              "        const docLink = document.createElement('div');\n",
              "        docLink.innerHTML = docLinkHtml;\n",
              "        element.appendChild(docLink);\n",
              "      }\n",
              "    </script>\n",
              "  </div>\n",
              "\n",
              "\n",
              "<div id=\"df-469a241c-295a-46bd-92b1-5cd29aca31d9\">\n",
              "  <button class=\"colab-df-quickchart\" onclick=\"quickchart('df-469a241c-295a-46bd-92b1-5cd29aca31d9')\"\n",
              "            title=\"Suggest charts.\"\n",
              "            style=\"display:none;\">\n",
              "\n",
              "<svg xmlns=\"http://www.w3.org/2000/svg\" height=\"24px\"viewBox=\"0 0 24 24\"\n",
              "     width=\"24px\">\n",
              "    <g>\n",
              "        <path d=\"M19 3H5c-1.1 0-2 .9-2 2v14c0 1.1.9 2 2 2h14c1.1 0 2-.9 2-2V5c0-1.1-.9-2-2-2zM9 17H7v-7h2v7zm4 0h-2V7h2v10zm4 0h-2v-4h2v4z\"/>\n",
              "    </g>\n",
              "</svg>\n",
              "  </button>\n",
              "\n",
              "<style>\n",
              "  .colab-df-quickchart {\n",
              "    background-color: #E8F0FE;\n",
              "    border: none;\n",
              "    border-radius: 50%;\n",
              "    cursor: pointer;\n",
              "    display: none;\n",
              "    fill: #1967D2;\n",
              "    height: 32px;\n",
              "    padding: 0 0 0 0;\n",
              "    width: 32px;\n",
              "  }\n",
              "\n",
              "  .colab-df-quickchart:hover {\n",
              "    background-color: #E2EBFA;\n",
              "    box-shadow: 0px 1px 2px rgba(60, 64, 67, 0.3), 0px 1px 3px 1px rgba(60, 64, 67, 0.15);\n",
              "    fill: #174EA6;\n",
              "  }\n",
              "\n",
              "  [theme=dark] .colab-df-quickchart {\n",
              "    background-color: #3B4455;\n",
              "    fill: #D2E3FC;\n",
              "  }\n",
              "\n",
              "  [theme=dark] .colab-df-quickchart:hover {\n",
              "    background-color: #434B5C;\n",
              "    box-shadow: 0px 1px 3px 1px rgba(0, 0, 0, 0.15);\n",
              "    filter: drop-shadow(0px 1px 2px rgba(0, 0, 0, 0.3));\n",
              "    fill: #FFFFFF;\n",
              "  }\n",
              "</style>\n",
              "\n",
              "  <script>\n",
              "    async function quickchart(key) {\n",
              "      const charts = await google.colab.kernel.invokeFunction(\n",
              "          'suggestCharts', [key], {});\n",
              "    }\n",
              "    (() => {\n",
              "      let quickchartButtonEl =\n",
              "        document.querySelector('#df-469a241c-295a-46bd-92b1-5cd29aca31d9 button');\n",
              "      quickchartButtonEl.style.display =\n",
              "        google.colab.kernel.accessAllowed ? 'block' : 'none';\n",
              "    })();\n",
              "  </script>\n",
              "</div>\n",
              "    </div>\n",
              "  </div>\n"
            ]
          },
          "metadata": {},
          "execution_count": 32
        }
      ],
      "source": [
        "cancer.describe()"
      ]
    },
    {
      "cell_type": "code",
      "execution_count": null,
      "id": "2d85a25b",
      "metadata": {
        "execution": {
          "iopub.execute_input": "2023-08-27T03:39:14.576468Z",
          "iopub.status.busy": "2023-08-27T03:39:14.575459Z",
          "iopub.status.idle": "2023-08-27T03:39:14.582086Z",
          "shell.execute_reply": "2023-08-27T03:39:14.580909Z"
        },
        "papermill": {
          "duration": 0.018127,
          "end_time": "2023-08-27T03:39:14.584589",
          "exception": false,
          "start_time": "2023-08-27T03:39:14.566462",
          "status": "completed"
        },
        "tags": [],
        "id": "2d85a25b",
        "outputId": "016411cc-56d2-410d-c046-c8a1b7f70ea0",
        "colab": {
          "base_uri": "https://localhost:8080/"
        }
      },
      "outputs": [
        {
          "output_type": "execute_result",
          "data": {
            "text/plain": [
              "18208"
            ]
          },
          "metadata": {},
          "execution_count": 33
        }
      ],
      "source": [
        "cancer.size"
      ]
    },
    {
      "cell_type": "code",
      "execution_count": null,
      "id": "f4ae2e19",
      "metadata": {
        "execution": {
          "iopub.execute_input": "2023-08-27T03:39:14.603250Z",
          "iopub.status.busy": "2023-08-27T03:39:14.602498Z",
          "iopub.status.idle": "2023-08-27T03:39:14.611652Z",
          "shell.execute_reply": "2023-08-27T03:39:14.610730Z"
        },
        "papermill": {
          "duration": 0.020862,
          "end_time": "2023-08-27T03:39:14.613696",
          "exception": false,
          "start_time": "2023-08-27T03:39:14.592834",
          "status": "completed"
        },
        "tags": [],
        "id": "f4ae2e19",
        "outputId": "fa06bf46-daa7-4d01-c6b6-210759265e13",
        "colab": {
          "base_uri": "https://localhost:8080/"
        }
      },
      "outputs": [
        {
          "output_type": "execute_result",
          "data": {
            "text/plain": [
              "id                         0\n",
              "diagnosis                  0\n",
              "radius_mean                0\n",
              "texture_mean               0\n",
              "perimeter_mean             0\n",
              "area_mean                  0\n",
              "smoothness_mean            0\n",
              "compactness_mean           0\n",
              "concavity_mean             0\n",
              "concave points_mean        0\n",
              "symmetry_mean              0\n",
              "fractal_dimension_mean     0\n",
              "radius_se                  0\n",
              "texture_se                 0\n",
              "perimeter_se               0\n",
              "area_se                    0\n",
              "smoothness_se              0\n",
              "compactness_se             0\n",
              "concavity_se               0\n",
              "concave points_se          0\n",
              "symmetry_se                0\n",
              "fractal_dimension_se       0\n",
              "radius_worst               0\n",
              "texture_worst              0\n",
              "perimeter_worst            0\n",
              "area_worst                 0\n",
              "smoothness_worst           0\n",
              "compactness_worst          0\n",
              "concavity_worst            0\n",
              "concave points_worst       0\n",
              "symmetry_worst             0\n",
              "fractal_dimension_worst    0\n",
              "dtype: int64"
            ]
          },
          "metadata": {},
          "execution_count": 34
        }
      ],
      "source": [
        "cancer.isna().sum()"
      ]
    },
    {
      "cell_type": "code",
      "execution_count": null,
      "id": "d9871060",
      "metadata": {
        "execution": {
          "iopub.execute_input": "2023-08-27T03:39:14.631712Z",
          "iopub.status.busy": "2023-08-27T03:39:14.631308Z",
          "iopub.status.idle": "2023-08-27T03:39:14.648948Z",
          "shell.execute_reply": "2023-08-27T03:39:14.647830Z"
        },
        "papermill": {
          "duration": 0.02946,
          "end_time": "2023-08-27T03:39:14.651401",
          "exception": false,
          "start_time": "2023-08-27T03:39:14.621941",
          "status": "completed"
        },
        "tags": [],
        "id": "d9871060",
        "outputId": "8ba09bf0-0730-47fd-f87c-b01d95eef274",
        "colab": {
          "base_uri": "https://localhost:8080/",
          "height": 116
        }
      },
      "outputs": [
        {
          "output_type": "execute_result",
          "data": {
            "text/plain": [
              "Empty DataFrame\n",
              "Columns: [id, diagnosis, radius_mean, texture_mean, perimeter_mean, area_mean, smoothness_mean, compactness_mean, concavity_mean, concave points_mean, symmetry_mean, fractal_dimension_mean, radius_se, texture_se, perimeter_se, area_se, smoothness_se, compactness_se, concavity_se, concave points_se, symmetry_se, fractal_dimension_se, radius_worst, texture_worst, perimeter_worst, area_worst, smoothness_worst, compactness_worst, concavity_worst, concave points_worst, symmetry_worst, fractal_dimension_worst]\n",
              "Index: []\n",
              "\n",
              "[0 rows x 32 columns]"
            ],
            "text/html": [
              "\n",
              "  <div id=\"df-e2532d72-d21a-434d-ab4f-b39266d0628a\" class=\"colab-df-container\">\n",
              "    <div>\n",
              "<style scoped>\n",
              "    .dataframe tbody tr th:only-of-type {\n",
              "        vertical-align: middle;\n",
              "    }\n",
              "\n",
              "    .dataframe tbody tr th {\n",
              "        vertical-align: top;\n",
              "    }\n",
              "\n",
              "    .dataframe thead th {\n",
              "        text-align: right;\n",
              "    }\n",
              "</style>\n",
              "<table border=\"1\" class=\"dataframe\">\n",
              "  <thead>\n",
              "    <tr style=\"text-align: right;\">\n",
              "      <th></th>\n",
              "      <th>id</th>\n",
              "      <th>diagnosis</th>\n",
              "      <th>radius_mean</th>\n",
              "      <th>texture_mean</th>\n",
              "      <th>perimeter_mean</th>\n",
              "      <th>area_mean</th>\n",
              "      <th>smoothness_mean</th>\n",
              "      <th>compactness_mean</th>\n",
              "      <th>concavity_mean</th>\n",
              "      <th>concave points_mean</th>\n",
              "      <th>...</th>\n",
              "      <th>radius_worst</th>\n",
              "      <th>texture_worst</th>\n",
              "      <th>perimeter_worst</th>\n",
              "      <th>area_worst</th>\n",
              "      <th>smoothness_worst</th>\n",
              "      <th>compactness_worst</th>\n",
              "      <th>concavity_worst</th>\n",
              "      <th>concave points_worst</th>\n",
              "      <th>symmetry_worst</th>\n",
              "      <th>fractal_dimension_worst</th>\n",
              "    </tr>\n",
              "  </thead>\n",
              "  <tbody>\n",
              "  </tbody>\n",
              "</table>\n",
              "<p>0 rows × 32 columns</p>\n",
              "</div>\n",
              "    <div class=\"colab-df-buttons\">\n",
              "\n",
              "  <div class=\"colab-df-container\">\n",
              "    <button class=\"colab-df-convert\" onclick=\"convertToInteractive('df-e2532d72-d21a-434d-ab4f-b39266d0628a')\"\n",
              "            title=\"Convert this dataframe to an interactive table.\"\n",
              "            style=\"display:none;\">\n",
              "\n",
              "  <svg xmlns=\"http://www.w3.org/2000/svg\" height=\"24px\" viewBox=\"0 -960 960 960\">\n",
              "    <path d=\"M120-120v-720h720v720H120Zm60-500h600v-160H180v160Zm220 220h160v-160H400v160Zm0 220h160v-160H400v160ZM180-400h160v-160H180v160Zm440 0h160v-160H620v160ZM180-180h160v-160H180v160Zm440 0h160v-160H620v160Z\"/>\n",
              "  </svg>\n",
              "    </button>\n",
              "\n",
              "  <style>\n",
              "    .colab-df-container {\n",
              "      display:flex;\n",
              "      gap: 12px;\n",
              "    }\n",
              "\n",
              "    .colab-df-convert {\n",
              "      background-color: #E8F0FE;\n",
              "      border: none;\n",
              "      border-radius: 50%;\n",
              "      cursor: pointer;\n",
              "      display: none;\n",
              "      fill: #1967D2;\n",
              "      height: 32px;\n",
              "      padding: 0 0 0 0;\n",
              "      width: 32px;\n",
              "    }\n",
              "\n",
              "    .colab-df-convert:hover {\n",
              "      background-color: #E2EBFA;\n",
              "      box-shadow: 0px 1px 2px rgba(60, 64, 67, 0.3), 0px 1px 3px 1px rgba(60, 64, 67, 0.15);\n",
              "      fill: #174EA6;\n",
              "    }\n",
              "\n",
              "    .colab-df-buttons div {\n",
              "      margin-bottom: 4px;\n",
              "    }\n",
              "\n",
              "    [theme=dark] .colab-df-convert {\n",
              "      background-color: #3B4455;\n",
              "      fill: #D2E3FC;\n",
              "    }\n",
              "\n",
              "    [theme=dark] .colab-df-convert:hover {\n",
              "      background-color: #434B5C;\n",
              "      box-shadow: 0px 1px 3px 1px rgba(0, 0, 0, 0.15);\n",
              "      filter: drop-shadow(0px 1px 2px rgba(0, 0, 0, 0.3));\n",
              "      fill: #FFFFFF;\n",
              "    }\n",
              "  </style>\n",
              "\n",
              "    <script>\n",
              "      const buttonEl =\n",
              "        document.querySelector('#df-e2532d72-d21a-434d-ab4f-b39266d0628a button.colab-df-convert');\n",
              "      buttonEl.style.display =\n",
              "        google.colab.kernel.accessAllowed ? 'block' : 'none';\n",
              "\n",
              "      async function convertToInteractive(key) {\n",
              "        const element = document.querySelector('#df-e2532d72-d21a-434d-ab4f-b39266d0628a');\n",
              "        const dataTable =\n",
              "          await google.colab.kernel.invokeFunction('convertToInteractive',\n",
              "                                                    [key], {});\n",
              "        if (!dataTable) return;\n",
              "\n",
              "        const docLinkHtml = 'Like what you see? Visit the ' +\n",
              "          '<a target=\"_blank\" href=https://colab.research.google.com/notebooks/data_table.ipynb>data table notebook</a>'\n",
              "          + ' to learn more about interactive tables.';\n",
              "        element.innerHTML = '';\n",
              "        dataTable['output_type'] = 'display_data';\n",
              "        await google.colab.output.renderOutput(dataTable, element);\n",
              "        const docLink = document.createElement('div');\n",
              "        docLink.innerHTML = docLinkHtml;\n",
              "        element.appendChild(docLink);\n",
              "      }\n",
              "    </script>\n",
              "  </div>\n",
              "\n",
              "    </div>\n",
              "  </div>\n"
            ]
          },
          "metadata": {},
          "execution_count": 35
        }
      ],
      "source": [
        "cancer[cancer.duplicated(subset=['id'],keep=False)]"
      ]
    },
    {
      "cell_type": "code",
      "execution_count": null,
      "id": "aefab6ef",
      "metadata": {
        "execution": {
          "iopub.execute_input": "2023-08-27T03:39:14.670647Z",
          "iopub.status.busy": "2023-08-27T03:39:14.669565Z",
          "iopub.status.idle": "2023-08-27T03:39:14.677886Z",
          "shell.execute_reply": "2023-08-27T03:39:14.676854Z"
        },
        "papermill": {
          "duration": 0.020329,
          "end_time": "2023-08-27T03:39:14.680212",
          "exception": false,
          "start_time": "2023-08-27T03:39:14.659883",
          "status": "completed"
        },
        "tags": [],
        "id": "aefab6ef"
      },
      "outputs": [],
      "source": [
        "cancer.drop(['id'],axis=1,inplace=True)"
      ]
    },
    {
      "cell_type": "code",
      "execution_count": null,
      "id": "87b41c20",
      "metadata": {
        "execution": {
          "iopub.execute_input": "2023-08-27T03:39:14.699330Z",
          "iopub.status.busy": "2023-08-27T03:39:14.698957Z",
          "iopub.status.idle": "2023-08-27T03:39:14.949789Z",
          "shell.execute_reply": "2023-08-27T03:39:14.948719Z"
        },
        "papermill": {
          "duration": 0.263213,
          "end_time": "2023-08-27T03:39:14.952068",
          "exception": false,
          "start_time": "2023-08-27T03:39:14.688855",
          "status": "completed"
        },
        "tags": [],
        "id": "87b41c20",
        "outputId": "e3421bcb-95dc-4b43-9b6a-1be29636721a",
        "colab": {
          "base_uri": "https://localhost:8080/",
          "height": 405
        }
      },
      "outputs": [
        {
          "output_type": "execute_result",
          "data": {
            "text/plain": [
              "<Axes: xlabel='diagnosis', ylabel='count'>"
            ]
          },
          "metadata": {},
          "execution_count": 37
        },
        {
          "output_type": "display_data",
          "data": {
            "text/plain": [
              "<Figure size 1000x400 with 1 Axes>"
            ],
            "image/png": "[encoded data removed]"
          },
          "metadata": {}
        }
      ],
      "source": [
        "mplt.figure(figsize=(10,4))\n",
        "sns.countplot(data=cancer,x='diagnosis')"
      ]
    },
    {
      "cell_type": "code",
      "execution_count": null,
      "id": "a9af932d",
      "metadata": {
        "execution": {
          "iopub.execute_input": "2023-08-27T03:39:14.971610Z",
          "iopub.status.busy": "2023-08-27T03:39:14.971216Z",
          "iopub.status.idle": "2023-08-27T03:39:14.977640Z",
          "shell.execute_reply": "2023-08-27T03:39:14.976423Z"
        },
        "papermill": {
          "duration": 0.01907,
          "end_time": "2023-08-27T03:39:14.979956",
          "exception": false,
          "start_time": "2023-08-27T03:39:14.960886",
          "status": "completed"
        },
        "tags": [],
        "id": "a9af932d"
      },
      "outputs": [],
      "source": [
        "cancer['diagnosis']=cancer['diagnosis'].replace({'M':0,'B':1})"
      ]
    },
    {
      "cell_type": "code",
      "execution_count": null,
      "id": "606682a9",
      "metadata": {
        "execution": {
          "iopub.execute_input": "2023-08-27T03:39:14.999462Z",
          "iopub.status.busy": "2023-08-27T03:39:14.999044Z",
          "iopub.status.idle": "2023-08-27T03:39:15.008235Z",
          "shell.execute_reply": "2023-08-27T03:39:15.006911Z"
        },
        "papermill": {
          "duration": 0.021674,
          "end_time": "2023-08-27T03:39:15.010693",
          "exception": false,
          "start_time": "2023-08-27T03:39:14.989019",
          "status": "completed"
        },
        "tags": [],
        "id": "606682a9",
        "outputId": "2d91808c-ac80-4dc0-e7e1-66b979d4420c",
        "colab": {
          "base_uri": "https://localhost:8080/"
        }
      },
      "outputs": [
        {
          "output_type": "stream",
          "name": "stdout",
          "text": [
            "Percentage of malignant samples: 62.74%\n",
            "Percentage of benign samples: 37.26%\n"
          ]
        }
      ],
      "source": [
        "count_malignant = cancer[cancer['diagnosis'] == 1].shape[0]\n",
        "count_benign = cancer[cancer['diagnosis'] == 0].shape[0]\n",
        "\n",
        "# Calculate the total number of samples\n",
        "total_samples = count_malignant + count_benign\n",
        "\n",
        "# Calculate the percentage of each class\n",
        "percentage_malignant = (count_malignant / total_samples) * 100\n",
        "percentage_benign = (count_benign / total_samples) * 100\n",
        "\n",
        "print(f\"Percentage of malignant samples: {percentage_malignant:.2f}%\")\n",
        "print(f\"Percentage of benign samples: {percentage_benign:.2f}%\")"
      ]
    },
    {
      "cell_type": "code",
      "execution_count": null,
      "id": "2013ca30",
      "metadata": {
        "execution": {
          "iopub.execute_input": "2023-08-27T03:39:15.030459Z",
          "iopub.status.busy": "2023-08-27T03:39:15.030038Z",
          "iopub.status.idle": "2023-08-27T03:39:15.255201Z",
          "shell.execute_reply": "2023-08-27T03:39:15.254138Z"
        },
        "papermill": {
          "duration": 0.238036,
          "end_time": "2023-08-27T03:39:15.257794",
          "exception": false,
          "start_time": "2023-08-27T03:39:15.019758",
          "status": "completed"
        },
        "tags": [],
        "id": "2013ca30",
        "outputId": "54b9f62e-c6cd-463d-acd5-78e96d75acd8",
        "colab": {
          "base_uri": "https://localhost:8080/",
          "height": 405
        }
      },
      "outputs": [
        {
          "output_type": "execute_result",
          "data": {
            "text/plain": [
              "<Axes: xlabel='diagnosis', ylabel='count'>"
            ]
          },
          "metadata": {},
          "execution_count": 40
        },
        {
          "output_type": "display_data",
          "data": {
            "text/plain": [
              "<Figure size 1000x400 with 1 Axes>"
            ],
            "image/png": "[encoded data removed]"
          },
          "metadata": {}
        }
      ],
      "source": [
        "mplt.figure(figsize=(10,4))\n",
        "sns.countplot(data=cancer,x='diagnosis')"
      ]
    },
    {
      "cell_type": "code",
      "execution_count": null,
      "id": "96845196",
      "metadata": {
        "execution": {
          "iopub.execute_input": "2023-08-27T03:39:15.278557Z",
          "iopub.status.busy": "2023-08-27T03:39:15.277587Z",
          "iopub.status.idle": "2023-08-27T03:39:15.285326Z",
          "shell.execute_reply": "2023-08-27T03:39:15.284396Z"
        },
        "papermill": {
          "duration": 0.020757,
          "end_time": "2023-08-27T03:39:15.287819",
          "exception": false,
          "start_time": "2023-08-27T03:39:15.267062",
          "status": "completed"
        },
        "tags": [],
        "id": "96845196"
      },
      "outputs": [],
      "source": [
        "X=cancer.drop('diagnosis',axis=1).values\n",
        "y=cancer['diagnosis'].values\n",
        "names = cancer.drop(\"diagnosis\", axis=1).columns"
      ]
    },
    {
      "cell_type": "code",
      "execution_count": null,
      "id": "6a952271",
      "metadata": {
        "execution": {
          "iopub.execute_input": "2023-08-27T03:39:15.308879Z",
          "iopub.status.busy": "2023-08-27T03:39:15.308024Z",
          "iopub.status.idle": "2023-08-27T03:39:15.853884Z",
          "shell.execute_reply": "2023-08-27T03:39:15.852844Z"
        },
        "papermill": {
          "duration": 0.559523,
          "end_time": "2023-08-27T03:39:15.856781",
          "exception": false,
          "start_time": "2023-08-27T03:39:15.297258",
          "status": "completed"
        },
        "tags": [],
        "id": "6a952271",
        "outputId": "683e1f4a-fa2d-4305-b37e-2920564e14b8",
        "colab": {
          "base_uri": "https://localhost:8080/",
          "height": 586
        }
      },
      "outputs": [
        {
          "output_type": "display_data",
          "data": {
            "text/plain": [
              "<Figure size 640x480 with 1 Axes>"
            ],
            "image/png": "[encoded data removed]"
          },
          "metadata": {}
        }
      ],
      "source": [
        "lasso = Lasso(alpha=0.001,max_iter=10000)\n",
        "lasso_coef = lasso.fit(X, y).coef_\n",
        "mplt.bar(names, lasso_coef)\n",
        "mplt.xticks(rotation=90)\n",
        "mplt.show()"
      ]
    },
    {
      "cell_type": "code",
      "execution_count": null,
      "id": "f437d2ac",
      "metadata": {
        "execution": {
          "iopub.execute_input": "2023-08-27T03:39:15.880563Z",
          "iopub.status.busy": "2023-08-27T03:39:15.879218Z",
          "iopub.status.idle": "2023-08-27T03:39:15.886237Z",
          "shell.execute_reply": "2023-08-27T03:39:15.885402Z"
        },
        "papermill": {
          "duration": 0.021188,
          "end_time": "2023-08-27T03:39:15.888546",
          "exception": false,
          "start_time": "2023-08-27T03:39:15.867358",
          "status": "completed"
        },
        "tags": [],
        "id": "f437d2ac"
      },
      "outputs": [],
      "source": [
        "X_radius_mean = cancer[['radius_mean']]\n",
        "X_radius_mean = X_radius_mean.values.reshape(-1, 1)"
      ]
    },
    {
      "cell_type": "code",
      "execution_count": null,
      "id": "4de885bc",
      "metadata": {
        "execution": {
          "iopub.execute_input": "2023-08-27T03:39:15.911773Z",
          "iopub.status.busy": "2023-08-27T03:39:15.910739Z",
          "iopub.status.idle": "2023-08-27T03:39:15.931017Z",
          "shell.execute_reply": "2023-08-27T03:39:15.929598Z"
        },
        "papermill": {
          "duration": 0.034813,
          "end_time": "2023-08-27T03:39:15.933618",
          "exception": false,
          "start_time": "2023-08-27T03:39:15.898805",
          "status": "completed"
        },
        "tags": [],
        "id": "4de885bc"
      },
      "outputs": [],
      "source": [
        "from sklearn.linear_model import LogisticRegression\n",
        "X_train, X_test, y_train, y_test = train_test_split(X_radius_mean, y, test_size=0.3,random_state=42)\n",
        "logreg = LogisticRegression(max_iter=1000)\n",
        "logreg.fit(X_train, y_train)\n",
        "y_pred = logreg.predict(X_test)"
      ]
    },
    {
      "cell_type": "code",
      "execution_count": null,
      "id": "03485d61",
      "metadata": {
        "execution": {
          "iopub.execute_input": "2023-08-27T03:39:15.957224Z",
          "iopub.status.busy": "2023-08-27T03:39:15.956149Z",
          "iopub.status.idle": "2023-08-27T03:39:16.004029Z",
          "shell.execute_reply": "2023-08-27T03:39:16.002398Z"
        },
        "papermill": {
          "duration": 0.061851,
          "end_time": "2023-08-27T03:39:16.006372",
          "exception": false,
          "start_time": "2023-08-27T03:39:15.944521",
          "status": "completed"
        },
        "tags": [],
        "id": "03485d61",
        "outputId": "64ddc71b-13f8-4267-cee4-0f728f00009f",
        "colab": {
          "base_uri": "https://localhost:8080/"
        }
      },
      "outputs": [
        {
          "output_type": "stream",
          "name": "stdout",
          "text": [
            "Cross-Validation Scores: [0.92682927 0.8902439  0.87654321 0.85185185 0.90123457 0.82716049\n",
            " 0.86419753]\n",
            "Mean Score: 0.8768658321503849\n",
            "Standard Deviation of Scores: 0.030533501059606203\n"
          ]
        }
      ],
      "source": [
        "kf = KFold(n_splits=7, shuffle=True, random_state=42)\n",
        "logref = LogisticRegression()\n",
        "cv_results = cross_val_score(logreg, X_radius_mean, y, cv=kf)\n",
        "\n",
        "mean_score = np.mean(cv_results)\n",
        "std_score = np.std(cv_results)\n",
        "\n",
        "print(\"Cross-Validation Scores:\", cv_results)\n",
        "print(\"Mean Score:\", mean_score)\n",
        "print(\"Standard Deviation of Scores:\", std_score)"
      ]
    },
    {
      "cell_type": "code",
      "execution_count": null,
      "id": "173e864f",
      "metadata": {
        "execution": {
          "iopub.execute_input": "2023-08-27T03:39:16.028933Z",
          "iopub.status.busy": "2023-08-27T03:39:16.028492Z",
          "iopub.status.idle": "2023-08-27T03:39:16.045277Z",
          "shell.execute_reply": "2023-08-27T03:39:16.043879Z"
        },
        "papermill": {
          "duration": 0.030966,
          "end_time": "2023-08-27T03:39:16.047702",
          "exception": false,
          "start_time": "2023-08-27T03:39:16.016736",
          "status": "completed"
        },
        "tags": [],
        "id": "173e864f",
        "outputId": "b23af8af-9df1-40f1-dca4-0efa9aeb7a14",
        "colab": {
          "base_uri": "https://localhost:8080/"
        }
      },
      "outputs": [
        {
          "output_type": "stream",
          "name": "stdout",
          "text": [
            "Accuracy: 0.9122807017543859\n",
            "Precision: 0.9043478260869565\n",
            "Recall: 0.9629629629629629\n",
            "F1-score: 0.9327354260089685\n",
            "Confusion Matrix:\n",
            " [[ 52  11]\n",
            " [  4 104]]\n"
          ]
        }
      ],
      "source": [
        "# Compute accuracy\n",
        "accuracy = accuracy_score(y_test, y_pred)\n",
        "print(\"Accuracy:\", accuracy)\n",
        "\n",
        "# Compute precision\n",
        "precision = precision_score(y_test, y_pred)\n",
        "print(\"Precision:\", precision)\n",
        "\n",
        "# Compute recall\n",
        "recall = recall_score(y_test, y_pred)\n",
        "print(\"Recall:\", recall)\n",
        "\n",
        "# Compute F1-score\n",
        "f1 = f1_score(y_test, y_pred)\n",
        "print(\"F1-score:\", f1)\n",
        "\n",
        "# Compute confusion matrix\n",
        "conf_matrix = confusion_matrix(y_test, y_pred)\n",
        "print(\"Confusion Matrix:\\n\", conf_matrix)"
      ]
    },
    {
      "cell_type": "code",
      "execution_count": null,
      "id": "836f49c8",
      "metadata": {
        "execution": {
          "iopub.execute_input": "2023-08-27T03:39:16.070755Z",
          "iopub.status.busy": "2023-08-27T03:39:16.070316Z",
          "iopub.status.idle": "2023-08-27T03:39:16.563610Z",
          "shell.execute_reply": "2023-08-27T03:39:16.561888Z"
        },
        "papermill": {
          "duration": 0.508128,
          "end_time": "2023-08-27T03:39:16.566562",
          "exception": false,
          "start_time": "2023-08-27T03:39:16.058434",
          "status": "completed"
        },
        "tags": [],
        "id": "836f49c8",
        "outputId": "00e8c322-439b-40fc-b433-51750493a566",
        "colab": {
          "base_uri": "https://localhost:8080/",
          "height": 407
        }
      },
      "outputs": [
        {
          "output_type": "display_data",
          "data": {
            "text/plain": [
              "<Figure size 1200x400 with 3 Axes>"
            ],
            "image/png": "[encoded data removed]"
          },
          "metadata": {}
        }
      ],
      "source": [
        "labels = ['Negative', 'Positive']\n",
        "mplt.figure(figsize=(12, 4))\n",
        "\n",
        "mplt.subplot(131)\n",
        "sns.heatmap(conf_matrix, annot=True, fmt='d', cmap='Blues', xticklabels=labels, yticklabels=labels)\n",
        "mplt.xlabel('Predicted')\n",
        "mplt.ylabel('True')\n",
        "mplt.title('Confusion Matrix')\n",
        "\n",
        "mplt.subplot(132)\n",
        "mplt.bar(['Accuracy', 'Precision', 'Recall'], [accuracy, precision, recall], color=['blue', 'green', 'orange'])\n",
        "mplt.ylim(0, 1)\n",
        "mplt.title('Metrics')\n",
        "mplt.ylabel('Score')\n",
        "\n",
        "mplt.tight_layout()\n",
        "mplt.show()"
      ]
    },
    {
      "cell_type": "code",
      "execution_count": null,
      "id": "78027906",
      "metadata": {
        "execution": {
          "iopub.execute_input": "2023-08-27T03:39:16.591350Z",
          "iopub.status.busy": "2023-08-27T03:39:16.590466Z",
          "iopub.status.idle": "2023-08-27T03:39:17.620968Z",
          "shell.execute_reply": "2023-08-27T03:39:17.620207Z"
        },
        "papermill": {
          "duration": 1.046506,
          "end_time": "2023-08-27T03:39:17.624699",
          "exception": false,
          "start_time": "2023-08-27T03:39:16.578193",
          "status": "completed"
        },
        "tags": [],
        "id": "78027906",
        "outputId": "236991ab-417e-4b76-87f5-e7a2db43a1a2",
        "colab": {
          "base_uri": "https://localhost:8080/",
          "height": 633
        }
      },
      "outputs": [
        {
          "output_type": "display_data",
          "data": {
            "text/plain": [
              "<Figure size 1000x600 with 1 Axes>"
            ],
            "image/png": "[encoded data removed]"
          },
          "metadata": {}
        },
        {
          "output_type": "stream",
          "name": "stdout",
          "text": [
            "Selected features: Index(['perimeter_mean', 'area_mean', 'concavity_mean', 'concave points_mean',\n",
            "       'radius_worst', 'perimeter_worst', 'area_worst',\n",
            "       'concave points_worst'],\n",
            "      dtype='object')\n"
          ]
        }
      ],
      "source": [
        "from sklearn.ensemble import RandomForestClassifier\n",
        "X_train, X_test, y_train, y_test = train_test_split(X, y, test_size=0.3, random_state=42)\n",
        "\n",
        "rf = RandomForestClassifier(n_estimators=100, random_state=42)\n",
        "\n",
        "rf.fit(X_train, y_train)\n",
        "\n",
        "# Retrieve feature importance scores\n",
        "importance_scores = rf.feature_importances_\n",
        "\n",
        "# Visualize feature importance\n",
        "mplt.figure(figsize=(10, 6))\n",
        "mplt.barh(range(len(names)), importance_scores, align='center')\n",
        "mplt.yticks(range(len(names)), names)\n",
        "mplt.xlabel('Feature Importance')\n",
        "mplt.ylabel('Features')\n",
        "mplt.title('Feature Importance Scores')\n",
        "mplt.show()\n",
        "\n",
        "# Select features based on a threshold\n",
        "threshold = 0.05\n",
        "selected_features = names[importance_scores > threshold]\n",
        "\n",
        "print(\"Selected features:\", selected_features)"
      ]
    },
    {
      "cell_type": "code",
      "execution_count": null,
      "id": "40321b37",
      "metadata": {
        "execution": {
          "iopub.execute_input": "2023-08-27T03:39:17.652536Z",
          "iopub.status.busy": "2023-08-27T03:39:17.652150Z",
          "iopub.status.idle": "2023-08-27T03:39:17.658099Z",
          "shell.execute_reply": "2023-08-27T03:39:17.657009Z"
        },
        "papermill": {
          "duration": 0.022149,
          "end_time": "2023-08-27T03:39:17.660278",
          "exception": false,
          "start_time": "2023-08-27T03:39:17.638129",
          "status": "completed"
        },
        "tags": [],
        "id": "40321b37"
      },
      "outputs": [],
      "source": [
        "X_selected=cancer[['perimeter_mean','area_mean','concavity_mean','concave points_mean','radius_worst',\n",
        "                  'perimeter_worst', 'area_worst',\n",
        "                  'concave points_worst']].values"
      ]
    },
    {
      "cell_type": "code",
      "execution_count": null,
      "id": "f846360e",
      "metadata": {
        "execution": {
          "iopub.execute_input": "2023-08-27T03:39:17.686839Z",
          "iopub.status.busy": "2023-08-27T03:39:17.686171Z",
          "iopub.status.idle": "2023-08-27T03:39:17.718401Z",
          "shell.execute_reply": "2023-08-27T03:39:17.717293Z"
        },
        "papermill": {
          "duration": 0.048112,
          "end_time": "2023-08-27T03:39:17.720925",
          "exception": false,
          "start_time": "2023-08-27T03:39:17.672813",
          "status": "completed"
        },
        "tags": [],
        "id": "f846360e"
      },
      "outputs": [],
      "source": [
        "X_train, X_test, y_train, y_test = train_test_split(X_selected, y, test_size=0.3,random_state=42)\n",
        "logreg = LogisticRegression(max_iter=1000)\n",
        "logreg.fit(X_train, y_train)\n",
        "y_pred = logreg.predict(X_test)"
      ]
    },
    {
      "cell_type": "code",
      "execution_count": null,
      "id": "734e18af",
      "metadata": {
        "execution": {
          "iopub.execute_input": "2023-08-27T03:39:17.747388Z",
          "iopub.status.busy": "2023-08-27T03:39:17.746450Z",
          "iopub.status.idle": "2023-08-27T03:39:17.761537Z",
          "shell.execute_reply": "2023-08-27T03:39:17.759964Z"
        },
        "papermill": {
          "duration": 0.03077,
          "end_time": "2023-08-27T03:39:17.763920",
          "exception": false,
          "start_time": "2023-08-27T03:39:17.733150",
          "status": "completed"
        },
        "tags": [],
        "id": "734e18af",
        "outputId": "d27260e8-4082-4a8a-d571-91171b837bf3",
        "colab": {
          "base_uri": "https://localhost:8080/"
        }
      },
      "outputs": [
        {
          "output_type": "stream",
          "name": "stdout",
          "text": [
            "Accuracy: 0.9766081871345029\n",
            "Precision: 0.9727272727272728\n",
            "Recall: 0.9907407407407407\n",
            "F1-score: 0.981651376146789\n",
            "Confusion Matrix:\n",
            " [[ 60   3]\n",
            " [  1 107]]\n"
          ]
        }
      ],
      "source": [
        "accuracy = accuracy_score(y_test, y_pred)\n",
        "print(\"Accuracy:\", accuracy)\n",
        "\n",
        "# Compute precision\n",
        "precision = precision_score(y_test, y_pred)\n",
        "print(\"Precision:\", precision)\n",
        "\n",
        "# Compute recall\n",
        "recall = recall_score(y_test, y_pred)\n",
        "print(\"Recall:\", recall)\n",
        "\n",
        "# Compute F1-score\n",
        "f1 = f1_score(y_test, y_pred)\n",
        "print(\"F1-score:\", f1)\n",
        "\n",
        "# Compute confusion matrix\n",
        "conf_matrix = confusion_matrix(y_test, y_pred)\n",
        "print(\"Confusion Matrix:\\n\", conf_matrix)"
      ]
    },
    {
      "cell_type": "code",
      "execution_count": null,
      "id": "f391dd3c",
      "metadata": {
        "execution": {
          "iopub.execute_input": "2023-08-27T03:39:17.790735Z",
          "iopub.status.busy": "2023-08-27T03:39:17.789849Z",
          "iopub.status.idle": "2023-08-27T03:39:18.460267Z",
          "shell.execute_reply": "2023-08-27T03:39:18.459056Z"
        },
        "papermill": {
          "duration": 0.686443,
          "end_time": "2023-08-27T03:39:18.462739",
          "exception": false,
          "start_time": "2023-08-27T03:39:17.776296",
          "status": "completed"
        },
        "tags": [],
        "id": "f391dd3c",
        "outputId": "8f431e38-9fab-4646-956b-e03c49852217",
        "colab": {
          "base_uri": "https://localhost:8080/",
          "height": 407
        }
      },
      "outputs": [
        {
          "output_type": "display_data",
          "data": {
            "text/plain": [
              "<Figure size 1200x400 with 3 Axes>"
            ],
            "image/png": "[encoded data removed]"
          },
          "metadata": {}
        }
      ],
      "source": [
        "labels = ['Negative', 'Positive']\n",
        "mplt.figure(figsize=(12, 4))\n",
        "\n",
        "mplt.subplot(131)\n",
        "sns.heatmap(conf_matrix, annot=True, fmt='d', cmap='Blues', xticklabels=labels, yticklabels=labels)\n",
        "mplt.xlabel('Predicted')\n",
        "mplt.ylabel('True')\n",
        "mplt.title('Confusion Matrix')\n",
        "\n",
        "mplt.subplot(132)\n",
        "mplt.bar(['Accuracy', 'Precision', 'Recall'], [accuracy, precision, recall], color=['blue', 'green', 'orange'])\n",
        "mplt.ylim(0, 1)\n",
        "mplt.title('Metrics')\n",
        "mplt.ylabel('Score')\n",
        "\n",
        "mplt.tight_layout()\n",
        "mplt.show()"
      ]
    },
    {
      "cell_type": "code",
      "execution_count": null,
      "id": "5ca67381",
      "metadata": {
        "execution": {
          "iopub.execute_input": "2023-08-27T03:39:18.491453Z",
          "iopub.status.busy": "2023-08-27T03:39:18.491021Z",
          "iopub.status.idle": "2023-08-27T03:39:18.672319Z",
          "shell.execute_reply": "2023-08-27T03:39:18.670440Z"
        },
        "papermill": {
          "duration": 0.199276,
          "end_time": "2023-08-27T03:39:18.675185",
          "exception": false,
          "start_time": "2023-08-27T03:39:18.475909",
          "status": "completed"
        },
        "tags": [],
        "id": "5ca67381",
        "outputId": "998ecd54-ebe3-4233-f4e0-ffad255d161e",
        "colab": {
          "base_uri": "https://localhost:8080/"
        }
      },
      "outputs": [
        {
          "output_type": "stream",
          "name": "stdout",
          "text": [
            "Cross-Validation Scores: [0.98780488 0.97560976 0.92592593 0.90123457 0.95061728 0.90123457\n",
            " 0.91358025]\n",
            "Mean Score: 0.9365724609627047\n",
            "Standard Deviation of Scores: 0.032700921812929315\n"
          ]
        }
      ],
      "source": [
        "kf = KFold(n_splits=7, shuffle=True, random_state=42)\n",
        "logref = LogisticRegression()\n",
        "cv_results = cross_val_score(logreg, X_selected, y, cv=kf)\n",
        "\n",
        "mean_score = np.mean(cv_results)\n",
        "std_score = np.std(cv_results)\n",
        "\n",
        "print(\"Cross-Validation Scores:\", cv_results)\n",
        "print(\"Mean Score:\", mean_score)\n",
        "print(\"Standard Deviation of Scores:\", std_score)"
      ]
    },
    {
      "cell_type": "code",
      "execution_count": null,
      "id": "3709c1c1",
      "metadata": {
        "execution": {
          "iopub.execute_input": "2023-08-27T03:39:18.703361Z",
          "iopub.status.busy": "2023-08-27T03:39:18.702926Z",
          "iopub.status.idle": "2023-08-27T03:39:18.721643Z",
          "shell.execute_reply": "2023-08-27T03:39:18.720432Z"
        },
        "papermill": {
          "duration": 0.035924,
          "end_time": "2023-08-27T03:39:18.724318",
          "exception": false,
          "start_time": "2023-08-27T03:39:18.688394",
          "status": "completed"
        },
        "tags": [],
        "id": "3709c1c1",
        "outputId": "91acccc0-d170-48cb-d275-abd4785b0dad",
        "colab": {
          "base_uri": "https://localhost:8080/"
        }
      },
      "outputs": [
        {
          "output_type": "stream",
          "name": "stdout",
          "text": [
            "Accuracy: 0.9296482412060302\n",
            "Precision: 0.9367588932806324\n",
            "Recall: 0.9518072289156626\n",
            "F1-score: 0.9442231075697212\n",
            "Confusion Matrix:\n",
            " [[133  16]\n",
            " [ 12 237]]\n"
          ]
        }
      ],
      "source": [
        "y_train_pred = logreg.predict(X_train)\n",
        "# Compute accuracy\n",
        "accuracy = accuracy_score(y_train,y_train_pred)\n",
        "print(\"Accuracy:\", accuracy)\n",
        "\n",
        "# Compute precision\n",
        "precision = precision_score(y_train,y_train_pred)\n",
        "print(\"Precision:\", precision)\n",
        "\n",
        "# Compute recall\n",
        "recall = recall_score(y_train,y_train_pred)\n",
        "print(\"Recall:\", recall)\n",
        "\n",
        "# Compute F1-score\n",
        "f1 = f1_score(y_train,y_train_pred)\n",
        "print(\"F1-score:\", f1)\n",
        "\n",
        "# Compute confusion matrix\n",
        "conf_matrix = confusion_matrix(y_train,y_train_pred)\n",
        "print(\"Confusion Matrix:\\n\", conf_matrix)"
      ]
    },
    {
      "cell_type": "code",
      "execution_count": null,
      "id": "e31216c3",
      "metadata": {
        "execution": {
          "iopub.execute_input": "2023-08-27T03:39:18.753977Z",
          "iopub.status.busy": "2023-08-27T03:39:18.752897Z",
          "iopub.status.idle": "2023-08-27T03:39:19.015650Z",
          "shell.execute_reply": "2023-08-27T03:39:19.014474Z"
        },
        "papermill": {
          "duration": 0.281432,
          "end_time": "2023-08-27T03:39:19.018691",
          "exception": false,
          "start_time": "2023-08-27T03:39:18.737259",
          "status": "completed"
        },
        "tags": [],
        "id": "e31216c3",
        "outputId": "2424fd43-326c-47a8-e3fa-539f63c7184c",
        "colab": {
          "base_uri": "https://localhost:8080/"
        }
      },
      "outputs": [
        {
          "output_type": "stream",
          "name": "stdout",
          "text": [
            "Accuracy: 0.9590643274853801\n",
            "Classification Report:\n",
            "               precision    recall  f1-score   support\n",
            "\n",
            "           0       0.95      0.94      0.94        63\n",
            "           1       0.96      0.97      0.97       108\n",
            "\n",
            "    accuracy                           0.96       171\n",
            "   macro avg       0.96      0.95      0.96       171\n",
            "weighted avg       0.96      0.96      0.96       171\n",
            "\n"
          ]
        }
      ],
      "source": [
        "rf = RandomForestClassifier(n_estimators=100, random_state=42)\n",
        "\n",
        "# Train the model on the training data\n",
        "rf.fit(X_train, y_train)\n",
        "\n",
        "# Predict on the test data\n",
        "y_pred = rf.predict(X_test)\n",
        "\n",
        "# Calculate accuracy\n",
        "accuracy = accuracy_score(y_test, y_pred)\n",
        "print(\"Accuracy:\", accuracy)\n",
        "\n",
        "# Generate a classification report\n",
        "report = classification_report(y_test, y_pred)\n",
        "print(\"Classification Report:\\n\", report)"
      ]
    },
    {
      "cell_type": "code",
      "execution_count": null,
      "id": "84b49f7c",
      "metadata": {
        "execution": {
          "iopub.execute_input": "2023-08-27T03:39:19.047549Z",
          "iopub.status.busy": "2023-08-27T03:39:19.046653Z",
          "iopub.status.idle": "2023-08-27T03:39:20.545980Z",
          "shell.execute_reply": "2023-08-27T03:39:20.544772Z"
        },
        "papermill": {
          "duration": 1.516031,
          "end_time": "2023-08-27T03:39:20.548204",
          "exception": false,
          "start_time": "2023-08-27T03:39:19.032173",
          "status": "completed"
        },
        "tags": [],
        "id": "84b49f7c",
        "outputId": "612134d3-b8da-48e0-d19d-4c322a5bdc6b",
        "colab": {
          "base_uri": "https://localhost:8080/"
        }
      },
      "outputs": [
        {
          "output_type": "stream",
          "name": "stdout",
          "text": [
            "Cross-Validation Scores: [0.97560976 0.95121951 0.96296296 0.9382716  0.95061728 0.92592593\n",
            " 0.9382716 ]\n",
            "Mean Score: 0.9489826644298187\n",
            "Standard Deviation of Scores: 0.015460516568531766\n"
          ]
        }
      ],
      "source": [
        "kf = KFold(n_splits=7, shuffle=True, random_state=42)\n",
        "rf = RandomForestClassifier(n_estimators=100, random_state=42)\n",
        "cv_results = cross_val_score(rf, X_selected, y, cv=kf)\n",
        "\n",
        "mean_score = np.mean(cv_results)\n",
        "std_score = np.std(cv_results)\n",
        "\n",
        "print(\"Cross-Validation Scores:\", cv_results)\n",
        "print(\"Mean Score:\", mean_score)\n",
        "print(\"Standard Deviation of Scores:\", std_score)"
      ]
    },
    {
      "cell_type": "code",
      "execution_count": null,
      "id": "39f34f30",
      "metadata": {
        "papermill": {
          "duration": 0.012823,
          "end_time": "2023-08-27T03:39:20.600721",
          "exception": false,
          "start_time": "2023-08-27T03:39:20.587898",
          "status": "completed"
        },
        "tags": [],
        "id": "39f34f30"
      },
      "outputs": [],
      "source": []
    }
  ],
  "metadata": {
    "kernelspec": {
      "display_name": "Python 3",
      "language": "python",
      "name": "python3"
    },
    "language_info": {
      "codemirror_mode": {
        "name": "ipython",
        "version": 3
      },
      "file_extension": ".py",
      "mimetype": "text/x-python",
      "name": "python",
      "nbconvert_exporter": "python",
      "pygments_lexer": "ipython3",
      "version": "3.10.12"
    },
    "papermill": {
      "default_parameters": {},
      "duration": 20.22041,
      "end_time": "2023-08-27T03:39:21.692792",
      "environment_variables": {},
      "exception": null,
      "input_path": "__notebook__.ipynb",
      "output_path": "__notebook__.ipynb",
      "parameters": {},
      "start_time": "2023-08-27T03:39:01.472382",
      "version": "2.4.0"
    },
    "colab": {
      "provenance": [],
      "include_colab_link": true
    }
  },
  "nbformat": 4,
  "nbformat_minor": 5
}